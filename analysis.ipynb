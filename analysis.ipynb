{
 "cells": [
  {
   "cell_type": "markdown",
   "id": "b6a5f02e",
   "metadata": {},
   "source": [
    "# **Adversarial Projected Gradient Descent Analysis**\n",
    "This notebook will analyze the Projected Gradient Descent method as an adversary to a trained neural network on CIFAR-100.\n",
    "\n",
    "We trained two separate networks. The first was trained naturally, without seeing how an adversary might alter the input images.\n",
    "The second was trained with the altered images.\n",
    "\n",
    "We will display results for performance of the network against an adversarially altered test set as well as the natural test set.\n",
    "\n",
    "We expect that the neural network that had training against adversarial inputs will have a higher accuracy on the\n",
    "adversarially altered dataset than the naturally trained network. Furthermore, we expect the performance on the\n",
    "natural test set to be similar for both networks.\n",
    "\n",
    "We start by loading the data."
   ]
  },
  {
   "cell_type": "code",
   "execution_count": 8,
   "id": "da4bc08b",
   "metadata": {},
   "outputs": [
    {
     "name": "stdout",
     "output_type": "stream",
     "text": [
      "Files already downloaded and verified\n"
     ]
    }
   ],
   "source": [
    "import torch\n",
    "import torchvision\n",
    "\n",
    "batch_size = 100\n",
    "data_path = 'cifar100_data'\n",
    "model_path = 'models/a_very_robust_model'\n",
    "to_tensor = torchvision.transforms.PILToTensor()\n",
    "to_double = torchvision.transforms.ConvertImageDtype(torch.double)\n",
    "cifar_transform = torchvision.transforms.Compose([to_tensor,\n",
    "                                                  to_double])\n",
    "cifar_test_data = torchvision.datasets.CIFAR100(data_path,\n",
    "                                                transform=cifar_transform,\n",
    "                                                train=False,\n",
    "                                                download=True)\n",
    "test_data = torch.utils.data.DataLoader(cifar_test_data,\n",
    "                                        batch_size=batch_size,\n",
    "                                        shuffle=False)\n",
    "                                                 "
   ]
  },
  {
   "cell_type": "markdown",
   "id": "28a276d7",
   "metadata": {},
   "source": [
    "Now we set up the network and load its pre-trained weights. One for the natural weights, the other for the adversarially trained weights."
   ]
  },
  {
   "cell_type": "code",
   "execution_count": 9,
   "id": "ddaec16f",
   "metadata": {},
   "outputs": [
    {
     "data": {
      "text/plain": [
       "LeNet5(\n",
       "  (feature_extractor): Sequential(\n",
       "    (0): Conv2d(3, 6, kernel_size=(5, 5), stride=(1, 1))\n",
       "    (1): Tanh()\n",
       "    (2): AvgPool2d(kernel_size=2, stride=2, padding=0)\n",
       "    (3): Conv2d(6, 16, kernel_size=(5, 5), stride=(1, 1))\n",
       "    (4): Tanh()\n",
       "    (5): AvgPool2d(kernel_size=2, stride=2, padding=0)\n",
       "    (6): Conv2d(16, 120, kernel_size=(5, 5), stride=(1, 1))\n",
       "    (7): Tanh()\n",
       "  )\n",
       "  (classifier): Sequential(\n",
       "    (0): Linear(in_features=120, out_features=84, bias=True)\n",
       "    (1): Tanh()\n",
       "    (2): Linear(in_features=84, out_features=100, bias=True)\n",
       "  )\n",
       ")"
      ]
     },
     "execution_count": 9,
     "metadata": {},
     "output_type": "execute_result"
    }
   ],
   "source": [
    "from model import LeNet5\n",
    "\n",
    "\n",
    "if torch.cuda.is_available():\n",
    "    device = 'cuda'\n",
    "else:\n",
    "    device = 'cpu'\n",
    "\n",
    "# load model trained for 10,000 iterations (batches)\n",
    "adv_model = LeNet5(100).double().to(device)\n",
    "adv_model.load_state_dict(torch.load(model_path + '_adv_final_10000.pt', map_location=device))\n",
    "adv_model.eval()\n",
    "nat_model = LeNet5(100).double().to(device)\n",
    "nat_model.load_state_dict(torch.load(model_path + '_nat_final_10000.pt', map_location=device))\n",
    "nat_model.eval()"
   ]
  },
  {
   "cell_type": "markdown",
   "id": "3e0701cc",
   "metadata": {},
   "source": [
    "Now we define the attacker as our PGD adversary. We use the same parameters that were used when training the model, the most important being $\\epsilon = 0.0313725$."
   ]
  },
  {
   "cell_type": "code",
   "execution_count": 10,
   "id": "077315a2",
   "metadata": {},
   "outputs": [],
   "source": [
    "from pgd_attack import LinfPGDAttack\n",
    "\n",
    "epsilon = 0.0313725\n",
    "num_steps = 5\n",
    "step_size = 0.008\n",
    "random_start = True\n",
    "\n",
    "adv_attack = LinfPGDAttack(adv_model,\n",
    "                           epsilon,\n",
    "                           num_steps,\n",
    "                           step_size,\n",
    "                           random_start)\n",
    "\n",
    "nat_attack = LinfPGDAttack(nat_model,\n",
    "                           epsilon,\n",
    "                           num_steps,\n",
    "                           step_size,\n",
    "                           random_start)"
   ]
  },
  {
   "cell_type": "markdown",
   "id": "ad3cdb39",
   "metadata": {},
   "source": [
    "Next we compute the predictions that each network has on both the natural and altered test sets."
   ]
  },
  {
   "cell_type": "code",
   "execution_count": 20,
   "id": "9171795d",
   "metadata": {},
   "outputs": [
    {
     "name": "stderr",
     "output_type": "stream",
     "text": [
      "100%|██████████████████████████████████████████████████████████████| 100/100 [00:41<00:00,  2.42it/s]"
     ]
    },
    {
     "name": "stdout",
     "output_type": "stream",
     "text": [
      "Natural accuracy on natural test set: 25.24%\n",
      "PGD-trained accuracy on natural test set: 22.29%\n",
      "Natural accuracy on altered test set: 1.5%\n",
      "PGD-trained accuracy on altered test set: 13.55%\n"
     ]
    },
    {
     "name": "stderr",
     "output_type": "stream",
     "text": [
      "\n"
     ]
    }
   ],
   "source": [
    "import torchmetrics as tm\n",
    "from tqdm import tqdm\n",
    "\n",
    "nat_nat_acc_func = tm.Accuracy()\n",
    "adv_nat_acc_func = tm.Accuracy()\n",
    "nat_adv_acc_func = tm.Accuracy()\n",
    "adv_adv_acc_func = tm.Accuracy()\n",
    "\n",
    "view_flag = True\n",
    "\n",
    "for x_batch, y_batch in tqdm(iter(test_data)):\n",
    "    nat_nat_preds = nat_model(x_batch)\n",
    "    adv_nat_preds = adv_model(x_batch)\n",
    "    \n",
    "    x_batch_adv_nat = nat_attack.perturb(x_batch, y_batch)\n",
    "    x_batch_adv_adv = adv_attack.perturb(x_batch, y_batch)\n",
    "    \n",
    "    if view_flag:\n",
    "        nat_image = x_batch[0]\n",
    "        adv_nat_image = x_batch_adv_nat[0]\n",
    "        adv_adv_image = x_batch_adv_adv[0]\n",
    "        label = y_batch[0]\n",
    "        view_flag = False\n",
    "\n",
    "    nat_adv_preds = nat_model(x_batch_adv_nat)\n",
    "    adv_adv_preds = adv_model(x_batch_adv_adv)\n",
    "\n",
    "    nat_nat_acc_func.update(nat_nat_preds, y_batch)\n",
    "    adv_nat_acc_func.update(adv_nat_preds, y_batch)\n",
    "    nat_adv_acc_func.update(nat_adv_preds, y_batch)\n",
    "    adv_adv_acc_func.update(adv_adv_preds, y_batch)\n",
    "\n",
    "nat_nat_acc = nat_nat_acc_func.compute()\n",
    "adv_nat_acc = adv_nat_acc_func.compute()\n",
    "nat_adv_acc = nat_adv_acc_func.compute()\n",
    "adv_adv_acc = adv_adv_acc_func.compute()\n",
    "\n",
    "print(f'Natural accuracy on natural test set: {nat_nat_acc * 100 :.4}%')\n",
    "print(f'PGD-trained accuracy on natural test set: {adv_nat_acc * 100 :.4}%')\n",
    "print(f'Natural accuracy on altered test set: {nat_adv_acc * 100 :.4}%')\n",
    "print(f'PGD-trained accuracy on altered test set: {adv_adv_acc * 100 :.4}%')"
   ]
  },
  {
   "cell_type": "markdown",
   "id": "2bc6fa7e",
   "metadata": {},
   "source": [
    "So the accuracy is not that great overall, but this makes sense since we are using a fairly simple network for this problem.\n",
    "The main thing to notice is that the PGD-trained network accuracy was much higher than the naturally trained accuracy on the altered test set.\n",
    "This means that our training was helpful against this particular PGD adversary.\n",
    "\n",
    "Here is one example image (a mountain) unaltered, altered against the naturally trained network, and altered against the PGD-trained network:"
   ]
  },
  {
   "cell_type": "code",
   "execution_count": 22,
   "id": "889100ce",
   "metadata": {},
   "outputs": [
    {
     "name": "stdout",
     "output_type": "stream",
     "text": [
      "Image true label: 49\n"
     ]
    },
    {
     "data": {
      "image/png": "[encoded data removed]",
      "text/plain": [
       "<Figure size 1080x1080 with 3 Axes>"
      ]
     },
     "metadata": {
      "needs_background": "light"
     },
     "output_type": "display_data"
    }
   ],
   "source": [
    "import matplotlib.pyplot as plt\n",
    "\n",
    "print(f'Image true label: {label}')\n",
    "fig, (ax1, ax2, ax3) = plt.subplots(1, 3)\n",
    "fig.set_figheight(15)\n",
    "fig.set_figwidth(15)\n",
    "ax1.imshow(torch.moveaxis(nat_image, 0, 2))\n",
    "ax1.set_title('Natural')\n",
    "ax2.imshow(torch.moveaxis(adv_nat_image, 0, 2))\n",
    "ax2.set_title('Altered (natural-training)')\n",
    "ax3.imshow(torch.moveaxis(adv_adv_image, 0, 2))\n",
    "ax3.set_title('Altered (PGD-training)')\n",
    "plt.show()"
   ]
  },
  {
   "cell_type": "markdown",
   "id": "1f91bc3a",
   "metadata": {},
   "source": [
    "All of these images are nearly indistinguishable, yet the naturally-trained network does only marginally better than random at classifying the center image."
   ]
  },
  {
   "cell_type": "code",
   "execution_count": null,
   "id": "d2307ff2",
   "metadata": {},
   "outputs": [],
   "source": []
  }
 ],
 "metadata": {
  "kernelspec": {
   "display_name": "Python 3",
   "language": "python",
   "name": "python3"
  },
  "language_info": {
   "codemirror_mode": {
    "name": "ipython",
    "version": 3
   },
   "file_extension": ".py",
   "mimetype": "text/x-python",
   "name": "python",
   "nbconvert_exporter": "python",
   "pygments_lexer": "ipython3",
   "version": "3.7.8"
  }
 },
 "nbformat": 4,
 "nbformat_minor": 5
}
