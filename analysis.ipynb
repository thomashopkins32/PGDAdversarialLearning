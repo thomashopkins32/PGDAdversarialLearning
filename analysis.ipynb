{
 "cells": [
  {
   "cell_type": "markdown",
   "id": "fc79d47f",
   "metadata": {},
   "source": [
    "# **Adversarial Projected Gradient Descent Analysis**\n",
    "This notebook will analyze the Projected Gradient Descent method as an adversary to a trained neural network on CIFAR-100.\n",
    "\n",
    "We trained two separate networks. The first was trained naturally, without seeing how an adversary might alter the input images.\n",
    "The second was trained with the altered images.\n",
    "\n",
    "We will display results for performance of the network against an adversarially altered test set as well as the natural test set.\n",
    "\n",
    "We expect that the neural network that had training against adversarial inputs will have a higher accuracy on the\n",
    "adversarially altered dataset than the naturally trained network. Furthermore, we expect the performance on the\n",
    "natural test set to be similar for both networks.\n",
    "\n",
    "We start by loading the data."
   ]
  },
  {
   "cell_type": "code",
   "execution_count": 8,
   "id": "a5ca6ad5",
   "metadata": {},
   "outputs": [
    {
     "name": "stdout",
     "output_type": "stream",
     "text": [
      "Files already downloaded and verified\n"
     ]
    }
   ],
   "source": [
    "import torch\n",
    "import torchvision\n",
    "\n",
    "batch_size = 100\n",
    "data_path = 'cifar100_data'\n",
    "model_path = 'models/a_very_robust_model'\n",
    "to_tensor = torchvision.transforms.PILToTensor()\n",
    "to_double = torchvision.transforms.ConvertImageDtype(torch.double)\n",
    "cifar_transform = torchvision.transforms.Compose([to_tensor,\n",
    "                                                  to_double])\n",
    "cifar_test_data = torchvision.datasets.CIFAR100(data_path,\n",
    "                                                transform=cifar_transform,\n",
    "                                                train=False,\n",
    "                                                download=True)\n",
    "test_data = torch.utils.data.DataLoader(cifar_test_data,\n",
    "                                        batch_size=batch_size,\n",
    "                                        shuffle=False)\n",
    "                                                 "
   ]
  },
  {
   "cell_type": "markdown",
   "id": "f90bbb1c",
   "metadata": {},
   "source": [
    "Now we set up the network and load its pre-trained weights. One for the natural weights, the other for the adversarially trained weights."
   ]
  },
  {
   "cell_type": "code",
   "execution_count": 9,
   "id": "66783072",
   "metadata": {},
   "outputs": [
    {
     "data": {
      "text/plain": [
       "LeNet5(\n",
       "  (feature_extractor): Sequential(\n",
       "    (0): Conv2d(3, 6, kernel_size=(5, 5), stride=(1, 1))\n",
       "    (1): Tanh()\n",
       "    (2): AvgPool2d(kernel_size=2, stride=2, padding=0)\n",
       "    (3): Conv2d(6, 16, kernel_size=(5, 5), stride=(1, 1))\n",
       "    (4): Tanh()\n",
       "    (5): AvgPool2d(kernel_size=2, stride=2, padding=0)\n",
       "    (6): Conv2d(16, 120, kernel_size=(5, 5), stride=(1, 1))\n",
       "    (7): Tanh()\n",
       "  )\n",
       "  (classifier): Sequential(\n",
       "    (0): Linear(in_features=120, out_features=84, bias=True)\n",
       "    (1): Tanh()\n",
       "    (2): Linear(in_features=84, out_features=100, bias=True)\n",
       "  )\n",
       ")"
      ]
     },
     "execution_count": 9,
     "metadata": {},
     "output_type": "execute_result"
    }
   ],
   "source": [
    "from model import LeNet5\n",
    "\n",
    "\n",
    "if torch.cuda.is_available():\n",
    "    device = 'cuda'\n",
    "else:\n",
    "    device = 'cpu'\n",
    "\n",
    "# load model trained for 10,000 iterations (batches)\n",
    "adv_model = LeNet5(100).double().to(device)\n",
    "adv_model.load_state_dict(torch.load(model_path + '_adv_final_10000.pt', map_location=device))\n",
    "adv_model.eval()\n",
    "nat_model = LeNet5(100).double().to(device)\n",
    "nat_model.load_state_dict(torch.load(model_path + '_nat_final_10000.pt', map_location=device))\n",
    "nat_model.eval()"
   ]
  },
  {
   "cell_type": "markdown",
   "id": "6dd569b2",
   "metadata": {},
   "source": [
    "Now we define the attacker as our PGD adversary. We use the same parameters that were used when training the model, the most important being $\\epsilon = 0.0313725$."
   ]
  },
  {
   "cell_type": "code",
   "execution_count": 10,
   "id": "5262382e",
   "metadata": {},
   "outputs": [],
   "source": [
    "from pgd_attack import LinfPGDAttack\n",
    "\n",
    "epsilon = 0.0313725\n",
    "num_steps = 5\n",
    "step_size = 0.008\n",
    "random_start = True\n",
    "\n",
    "adv_attack = LinfPGDAttack(adv_model,\n",
    "                           epsilon,\n",
    "                           num_steps,\n",
    "                           step_size,\n",
    "                           random_start)\n",
    "\n",
    "nat_attack = LinfPGDAttack(nat_model,\n",
    "                           epsilon,\n",
    "                           num_steps,\n",
    "                           step_size,\n",
    "                           random_start)"
   ]
  },
  {
   "cell_type": "markdown",
   "id": "a5c546c9",
   "metadata": {},
   "source": [
    "Next we compute the predictions that each network has on both the natural and altered test sets."
   ]
  },
  {
   "cell_type": "code",
   "execution_count": 11,
   "id": "7a777d89",
   "metadata": {},
   "outputs": [
    {
     "name": "stderr",
     "output_type": "stream",
     "text": [
      "100%|██████████████████████████████████████████████████████████████| 100/100 [00:41<00:00,  2.42it/s]"
     ]
    },
    {
     "name": "stdout",
     "output_type": "stream",
     "text": [
      "Natural accuracy on natural test set: 25.24%\n",
      "PGD-trained accuracy on natural test set: 22.29%\n",
      "Natural accuracy on altered test set: 1.46%\n",
      "PGD-trained accuracy on altered test set: 13.58%\n"
     ]
    },
    {
     "name": "stderr",
     "output_type": "stream",
     "text": [
      "\n"
     ]
    }
   ],
   "source": [
    "import torchmetrics as tm\n",
    "from tqdm import tqdm\n",
    "\n",
    "nat_nat_acc_func = tm.Accuracy()\n",
    "adv_nat_acc_func = tm.Accuracy()\n",
    "nat_adv_acc_func = tm.Accuracy()\n",
    "adv_adv_acc_func = tm.Accuracy()\n",
    "\n",
    "for x_batch, y_batch in tqdm(iter(test_data)):\n",
    "    nat_nat_preds = nat_model(x_batch)\n",
    "    adv_nat_preds = adv_model(x_batch)\n",
    "\n",
    "    x_batch_adv_nat = nat_attack.perturb(x_batch, y_batch)\n",
    "    x_batch_adv_adv = adv_attack.perturb(x_batch, y_batch)\n",
    "\n",
    "    nat_adv_preds = nat_model(x_batch_adv_nat)\n",
    "    adv_adv_preds = adv_model(x_batch_adv_adv)\n",
    "\n",
    "    nat_nat_acc_func.update(nat_nat_preds, y_batch)\n",
    "    adv_nat_acc_func.update(adv_nat_preds, y_batch)\n",
    "    nat_adv_acc_func.update(nat_adv_preds, y_batch)\n",
    "    adv_adv_acc_func.update(adv_adv_preds, y_batch)\n",
    "\n",
    "nat_nat_acc = nat_nat_acc_func.compute()\n",
    "adv_nat_acc = adv_nat_acc_func.compute()\n",
    "nat_adv_acc = nat_adv_acc_func.compute()\n",
    "adv_adv_acc = adv_adv_acc_func.compute()\n",
    "\n",
    "print(f'Natural accuracy on natural test set: {nat_nat_acc * 100 :.4}%')\n",
    "print(f'PGD-trained accuracy on natural test set: {adv_nat_acc * 100 :.4}%')\n",
    "print(f'Natural accuracy on altered test set: {nat_adv_acc * 100 :.4}%')\n",
    "print(f'PGD-trained accuracy on altered test set: {adv_adv_acc * 100 :.4}%')"
   ]
  },
  {
   "cell_type": "code",
   "execution_count": null,
   "id": "84624124",
   "metadata": {},
   "outputs": [],
   "source": []
  },
  {
   "cell_type": "code",
   "execution_count": null,
   "id": "37ecab9c",
   "metadata": {},
   "outputs": [],
   "source": []
  }
 ],
 "metadata": {
  "kernelspec": {
   "display_name": "Python 3",
   "language": "python",
   "name": "python3"
  },
  "language_info": {
   "codemirror_mode": {
    "name": "ipython",
    "version": 3
   },
   "file_extension": ".py",
   "mimetype": "text/x-python",
   "name": "python",
   "nbconvert_exporter": "python",
   "pygments_lexer": "ipython3",
   "version": "3.7.8"
  }
 },
 "nbformat": 4,
 "nbformat_minor": 5
}
