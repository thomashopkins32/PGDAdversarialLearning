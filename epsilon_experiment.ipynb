{
 "cells": [
  {
   "cell_type": "code",
   "execution_count": 15,
   "id": "81aced9a",
   "metadata": {},
   "outputs": [],
   "source": [
    "import json\n",
    "import os\n",
    "\n",
    "import torch\n",
    "import torch.optim as optim\n",
    "import torch.nn as nn\n",
    "import torchvision\n",
    "import numpy as np\n",
    "from tqdm import tqdm\n",
    "import matplotlib.pyplot as plt\n",
    "\n",
    "from model import ResNet18, LeNet5\n",
    "from pgd_attack import LinfPGDAttack\n",
    "from train import train_one_epoch, evaluate\n",
    "\n",
    "with open('config.json') as config_file:\n",
    "    config = json.load(config_file)\n",
    "\n",
    "# randomness control\n",
    "torch.manual_seed(config['torch_random_seed'])\n",
    "np.random.seed(config['np_random_seed'])\n",
    "\n",
    "# GPU check\n",
    "if torch.cuda.is_available():\n",
    "    device = 'cuda'\n",
    "else:\n",
    "    device = 'cpu'\n",
    "\n",
    "# training parameters\n",
    "max_num_epochs = config['max_num_epochs']\n",
    "step_size_start = config['step_size_start']\n",
    "step_size_schedule = config['step_size_schedule']\n",
    "step_size_decay = config['step_size_decay']\n",
    "weight_decay = config['weight_decay']\n",
    "data_path = config['data_path']\n",
    "momentum = config['momentum']\n",
    "batch_size = config['training_batch_size']\n",
    "dataset = config['dataset']\n",
    "adv_training = config['train_with_adversary']\n",
    "\n"
   ]
  },
  {
   "cell_type": "code",
   "execution_count": 16,
   "id": "8ff4c395",
   "metadata": {},
   "outputs": [
    {
     "name": "stdout",
     "output_type": "stream",
     "text": [
      "Files already downloaded and verified\n",
      "Files already downloaded and verified\n"
     ]
    }
   ],
   "source": [
    "# set up data and model\n",
    "to_tensor = torchvision.transforms.PILToTensor()\n",
    "to_double = torchvision.transforms.ConvertImageDtype(torch.double)\n",
    "cifar_transform = torchvision.transforms.Compose([to_tensor,\n",
    "                                                  to_double])\n",
    "num_classes = 10\n",
    "cifar_train_data = torchvision.datasets.CIFAR10(data_path,\n",
    "                                                transform=cifar_transform,\n",
    "                                                train=True,\n",
    "                                                download=True)\n",
    "cifar_test_data = torchvision.datasets.CIFAR10(data_path,\n",
    "                                               transform=cifar_transform,\n",
    "                                               train=False,\n",
    "                                               download=True)\n",
    "\n",
    "train_data = torch.utils.data.DataLoader(cifar_train_data,\n",
    "                                         batch_size=batch_size,\n",
    "                                         shuffle=True)\n",
    "test_data = torch.utils.data.DataLoader(cifar_test_data,\n",
    "                                        batch_size=batch_size,\n",
    "                                        shuffle=False)"
   ]
  },
  {
   "cell_type": "code",
   "execution_count": 26,
   "id": "3fff1b47",
   "metadata": {},
   "outputs": [
    {
     "name": "stderr",
     "output_type": "stream",
     "text": [
      "100%|█████████████████████████████████████████████████████████████████████████████████████████████████████████████████████████████████████████████████████████████████████████| 8/8 [12:51<00:00, 96.43s/it]\n"
     ]
    }
   ],
   "source": [
    "n = 8\n",
    "epsilons = np.linspace(0.001, 0.1, num=n)\n",
    "adv_acc_results = np.zeros((n, n))\n",
    "adv_loss_results = np.zeros((n, n))\n",
    "loss_func = nn.CrossEntropyLoss()\n",
    "for i in tqdm(range(n)):\n",
    "    model = LeNet5(num_classes).double().to(device)\n",
    "    optimizer = optim.SGD(model.parameters(), lr=step_size_start,\n",
    "                          momentum=momentum, weight_decay=weight_decay)\n",
    "    lr_schedule = optim.lr_scheduler.StepLR(optimizer, step_size=step_size_schedule,\n",
    "                                            gamma=step_size_decay)\n",
    "    # DEFENDER\n",
    "    defender = LinfPGDAttack(model,\n",
    "                             epsilons[i],\n",
    "                             config['num_steps'],\n",
    "                             config['step_size'],\n",
    "                             config['random_start'],\n",
    "                             device)\n",
    "    for e in range(max_num_epochs):\n",
    "        train_one_epoch(model, loss_func, optimizer, train_data, defender, device)\n",
    "    for j in range(n):\n",
    "        # ATTACKER\n",
    "        attacker = LinfPGDAttack(model,\n",
    "                                epsilons[j],\n",
    "                                config['num_steps'],\n",
    "                                config['step_size'],\n",
    "                                config['random_start'],\n",
    "                                device)\n",
    "        _, (adv_loss, adv_acc) = evaluate(model,\n",
    "                                          loss_func,\n",
    "                                          test_data,\n",
    "                                          attacker,\n",
    "                                          device)\n",
    "        adv_loss_results[i][j] = adv_loss\n",
    "        adv_acc_results[i][j] = adv_acc"
   ]
  },
  {
   "cell_type": "code",
   "execution_count": 27,
   "id": "6b35ff75",
   "metadata": {},
   "outputs": [
    {
     "data": {
      "image/png": "[encoded data removed]",
      "text/plain": [
       "<Figure size 720x720 with 2 Axes>"
      ]
     },
     "metadata": {
      "needs_background": "light"
     },
     "output_type": "display_data"
    }
   ],
   "source": [
    "# plot heatmap of accuracy\n",
    "fig, (ax1, ax2) = plt.subplots(2, 1, figsize=(10, 10))\n",
    "ax1.imshow(adv_loss_results, cmap='hot')\n",
    "ax1.set_title('Loss Heatmap Attack vs Defense Strength')\n",
    "ax1.set_xlabel('attack')\n",
    "ax1.set_ylabel('defense')\n",
    "ax2.imshow(adv_acc_results, cmap='hot')\n",
    "ax2.set_title('Accuracy Heatmap Attack vs Defense Strength')\n",
    "ax2.set_xlabel('attack')\n",
    "ax2.set_ylabel('defense')\n",
    "\n",
    "plt.show()"
   ]
  },
  {
   "cell_type": "code",
   "execution_count": null,
   "id": "78a67a02",
   "metadata": {},
   "outputs": [],
   "source": []
  }
 ],
 "metadata": {
  "kernelspec": {
   "display_name": "Python 3",
   "language": "python",
   "name": "python3"
  },
  "language_info": {
   "codemirror_mode": {
    "name": "ipython",
    "version": 3
   },
   "file_extension": ".py",
   "mimetype": "text/x-python",
   "name": "python",
   "nbconvert_exporter": "python",
   "pygments_lexer": "ipython3",
   "version": "3.7.8"
  }
 },
 "nbformat": 4,
 "nbformat_minor": 5
}
