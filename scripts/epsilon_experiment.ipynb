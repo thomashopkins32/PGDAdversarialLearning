{
 "cells": [
  {
   "cell_type": "code",
   "execution_count": 1,
   "id": "81aced9a",
   "metadata": {},
   "outputs": [],
   "source": [
    "import json\n",
    "import os\n",
    "\n",
    "import torch\n",
    "import torch.optim as optim\n",
    "import torch.nn as nn\n",
    "import torchvision\n",
    "import numpy as np\n",
    "from tqdm import tqdm\n",
    "\n",
    "from model import ResNet18, LeNet5\n",
    "from pgd_attack import LinfPGDAttack\n",
    "from train import train_one_epoch, evaluate\n",
    "\n",
    "with open('config.json') as config_file:\n",
    "    config = json.load(config_file)\n",
    "\n",
    "# randomness control\n",
    "torch.manual_seed(config['torch_random_seed'])\n",
    "np.random.seed(config['np_random_seed'])\n",
    "\n",
    "# GPU check\n",
    "if torch.cuda.is_available():\n",
    "    device = 'cuda'\n",
    "else:\n",
    "    device = 'cpu'\n",
    "\n",
    "# training parameters\n",
    "max_num_epochs = config['max_num_epochs']\n",
    "step_size_start = config['step_size_start']\n",
    "step_size_schedule = config['step_size_schedule']\n",
    "step_size_decay = config['step_size_decay']\n",
    "weight_decay = config['weight_decay']\n",
    "data_path = config['data_path']\n",
    "momentum = config['momentum']\n",
    "batch_size = config['training_batch_size']\n",
    "dataset = config['dataset']\n",
    "adv_training = config['train_with_adversary']\n",
    "\n"
   ]
  },
  {
   "cell_type": "code",
   "execution_count": 2,
   "id": "8ff4c395",
   "metadata": {},
   "outputs": [
    {
     "name": "stdout",
     "output_type": "stream",
     "text": [
      "Downloading https://www.cs.toronto.edu/~kriz/cifar-10-python.tar.gz to cifar10_data\\cifar-10-python.tar.gz\n"
     ]
    },
    {
     "data": {
      "application/vnd.jupyter.widget-view+json": {
       "model_id": "8f6e6694e66e44f3b548e49387cb3d1d",
       "version_major": 2,
       "version_minor": 0
      },
      "text/plain": [
       "  0%|          | 0/170498071 [00:00<?, ?it/s]"
      ]
     },
     "metadata": {},
     "output_type": "display_data"
    },
    {
     "name": "stdout",
     "output_type": "stream",
     "text": [
      "Extracting cifar10_data\\cifar-10-python.tar.gz to cifar10_data\n",
      "Files already downloaded and verified\n"
     ]
    }
   ],
   "source": [
    "# set up data and model\n",
    "to_tensor = torchvision.transforms.PILToTensor()\n",
    "to_double = torchvision.transforms.ConvertImageDtype(torch.double)\n",
    "cifar_transform = torchvision.transforms.Compose([to_tensor,\n",
    "                                                  to_double])\n",
    "num_classes = 10\n",
    "cifar_train_data = torchvision.datasets.CIFAR10(data_path,\n",
    "                                                transform=cifar_transform,\n",
    "                                                train=True,\n",
    "                                                download=True)\n",
    "cifar_test_data = torchvision.datasets.CIFAR10(data_path,\n",
    "                                               transform=cifar_transform,\n",
    "                                               train=False,\n",
    "                                               download=True)\n",
    "\n",
    "train_data = torch.utils.data.DataLoader(cifar_train_data,\n",
    "                                         batch_size=batch_size,\n",
    "                                         shuffle=True)\n",
    "test_data = torch.utils.data.DataLoader(cifar_test_data,\n",
    "                                        batch_size=batch_size,\n",
    "                                        shuffle=False)"
   ]
  },
  {
   "cell_type": "code",
   "execution_count": 4,
   "id": "3fff1b47",
   "metadata": {
    "tags": []
   },
   "outputs": [
    {
     "name": "stderr",
     "output_type": "stream",
     "text": [
      "  0%|                                                                                           | 0/10 [00:16<?, ?it/s]\n"
     ]
    },
    {
     "ename": "KeyboardInterrupt",
     "evalue": "",
     "output_type": "error",
     "traceback": [
      "\u001b[1;31m---------------------------------------------------------------------------\u001b[0m",
      "\u001b[1;31mKeyboardInterrupt\u001b[0m                         Traceback (most recent call last)",
      "\u001b[1;32m~\\AppData\\Local\\Temp/ipykernel_17768/809118156.py\u001b[0m in \u001b[0;36m<module>\u001b[1;34m\u001b[0m\n\u001b[0;32m     18\u001b[0m                              device)\n\u001b[0;32m     19\u001b[0m     \u001b[1;32mfor\u001b[0m \u001b[0me\u001b[0m \u001b[1;32min\u001b[0m \u001b[0mrange\u001b[0m\u001b[1;33m(\u001b[0m\u001b[0mmax_num_epochs\u001b[0m\u001b[1;33m)\u001b[0m\u001b[1;33m:\u001b[0m\u001b[1;33m\u001b[0m\u001b[1;33m\u001b[0m\u001b[0m\n\u001b[1;32m---> 20\u001b[1;33m         \u001b[0mtrain_one_epoch\u001b[0m\u001b[1;33m(\u001b[0m\u001b[0mmodel\u001b[0m\u001b[1;33m,\u001b[0m \u001b[0mloss_func\u001b[0m\u001b[1;33m,\u001b[0m \u001b[0moptimizer\u001b[0m\u001b[1;33m,\u001b[0m \u001b[0mtrain_data\u001b[0m\u001b[1;33m,\u001b[0m \u001b[0mdefender\u001b[0m\u001b[1;33m,\u001b[0m \u001b[0mdevice\u001b[0m\u001b[1;33m)\u001b[0m\u001b[1;33m\u001b[0m\u001b[1;33m\u001b[0m\u001b[0m\n\u001b[0m\u001b[0;32m     21\u001b[0m     \u001b[1;32mfor\u001b[0m \u001b[0mj\u001b[0m \u001b[1;32min\u001b[0m \u001b[0mrange\u001b[0m\u001b[1;33m(\u001b[0m\u001b[0mn\u001b[0m\u001b[1;33m)\u001b[0m\u001b[1;33m:\u001b[0m\u001b[1;33m\u001b[0m\u001b[1;33m\u001b[0m\u001b[0m\n\u001b[0;32m     22\u001b[0m         \u001b[1;31m# ATTACKER\u001b[0m\u001b[1;33m\u001b[0m\u001b[1;33m\u001b[0m\u001b[1;33m\u001b[0m\u001b[0m\n",
      "\u001b[1;32m~\\Documents\\PGDAdversarialLearning\\scripts\\train.py\u001b[0m in \u001b[0;36mtrain_one_epoch\u001b[1;34m(model, loss_func, optimizer, dataloader, attack, device)\u001b[0m\n\u001b[0;32m     28\u001b[0m         \u001b[1;31m# compute adversarial perturbations\u001b[0m\u001b[1;33m\u001b[0m\u001b[1;33m\u001b[0m\u001b[1;33m\u001b[0m\u001b[0m\n\u001b[0;32m     29\u001b[0m         \u001b[1;32mif\u001b[0m \u001b[0mattack\u001b[0m\u001b[1;33m:\u001b[0m\u001b[1;33m\u001b[0m\u001b[1;33m\u001b[0m\u001b[0m\n\u001b[1;32m---> 30\u001b[1;33m             \u001b[0mx_batch\u001b[0m \u001b[1;33m=\u001b[0m \u001b[0mattack\u001b[0m\u001b[1;33m.\u001b[0m\u001b[0mperturb\u001b[0m\u001b[1;33m(\u001b[0m\u001b[0mx_batch\u001b[0m\u001b[1;33m,\u001b[0m \u001b[0my_batch\u001b[0m\u001b[1;33m)\u001b[0m\u001b[1;33m\u001b[0m\u001b[1;33m\u001b[0m\u001b[0m\n\u001b[0m\u001b[0;32m     31\u001b[0m         \u001b[1;31m# training step\u001b[0m\u001b[1;33m\u001b[0m\u001b[1;33m\u001b[0m\u001b[1;33m\u001b[0m\u001b[0m\n\u001b[0;32m     32\u001b[0m         \u001b[0moptimizer\u001b[0m\u001b[1;33m.\u001b[0m\u001b[0mzero_grad\u001b[0m\u001b[1;33m(\u001b[0m\u001b[1;33m)\u001b[0m\u001b[1;33m\u001b[0m\u001b[1;33m\u001b[0m\u001b[0m\n",
      "\u001b[1;32m~\\Documents\\PGDAdversarialLearning\\scripts\\pgd_attack.py\u001b[0m in \u001b[0;36mperturb\u001b[1;34m(self, x_nat, y)\u001b[0m\n\u001b[0;32m     41\u001b[0m             \u001b[0mloss\u001b[0m \u001b[1;33m=\u001b[0m \u001b[0mself\u001b[0m\u001b[1;33m.\u001b[0m\u001b[0mloss\u001b[0m\u001b[1;33m(\u001b[0m\u001b[0mpreds\u001b[0m\u001b[1;33m,\u001b[0m \u001b[0my\u001b[0m\u001b[1;33m)\u001b[0m\u001b[1;33m\u001b[0m\u001b[1;33m\u001b[0m\u001b[0m\n\u001b[0;32m     42\u001b[0m             \u001b[0mloss\u001b[0m\u001b[1;33m.\u001b[0m\u001b[0mbackward\u001b[0m\u001b[1;33m(\u001b[0m\u001b[1;33m)\u001b[0m\u001b[1;33m\u001b[0m\u001b[1;33m\u001b[0m\u001b[0m\n\u001b[1;32m---> 43\u001b[1;33m             \u001b[0mgrad\u001b[0m \u001b[1;33m=\u001b[0m \u001b[0mx\u001b[0m\u001b[1;33m.\u001b[0m\u001b[0mgrad\u001b[0m\u001b[1;33m.\u001b[0m\u001b[0mcpu\u001b[0m\u001b[1;33m(\u001b[0m\u001b[1;33m)\u001b[0m\u001b[1;33m\u001b[0m\u001b[1;33m\u001b[0m\u001b[0m\n\u001b[0m\u001b[0;32m     44\u001b[0m             \u001b[0mx\u001b[0m \u001b[1;33m=\u001b[0m \u001b[0mx\u001b[0m\u001b[1;33m.\u001b[0m\u001b[0mcpu\u001b[0m\u001b[1;33m(\u001b[0m\u001b[1;33m)\u001b[0m\u001b[1;33m.\u001b[0m\u001b[0mdetach\u001b[0m\u001b[1;33m(\u001b[0m\u001b[1;33m)\u001b[0m \u001b[1;33m+\u001b[0m \u001b[0mself\u001b[0m\u001b[1;33m.\u001b[0m\u001b[0mstep_size\u001b[0m \u001b[1;33m*\u001b[0m \u001b[0mtorch\u001b[0m\u001b[1;33m.\u001b[0m\u001b[0msign\u001b[0m\u001b[1;33m(\u001b[0m\u001b[0mgrad\u001b[0m\u001b[1;33m)\u001b[0m\u001b[1;33m\u001b[0m\u001b[1;33m\u001b[0m\u001b[0m\n\u001b[0;32m     45\u001b[0m             \u001b[0mx\u001b[0m \u001b[1;33m=\u001b[0m \u001b[0mtorch\u001b[0m\u001b[1;33m.\u001b[0m\u001b[0mclip\u001b[0m\u001b[1;33m(\u001b[0m\u001b[0mx\u001b[0m\u001b[1;33m,\u001b[0m \u001b[0mx_nat\u001b[0m \u001b[1;33m-\u001b[0m \u001b[0mself\u001b[0m\u001b[1;33m.\u001b[0m\u001b[0mepsilon\u001b[0m\u001b[1;33m,\u001b[0m \u001b[0mx_nat\u001b[0m \u001b[1;33m+\u001b[0m \u001b[0mself\u001b[0m\u001b[1;33m.\u001b[0m\u001b[0mepsilon\u001b[0m\u001b[1;33m)\u001b[0m\u001b[1;33m\u001b[0m\u001b[1;33m\u001b[0m\u001b[0m\n",
      "\u001b[1;31mKeyboardInterrupt\u001b[0m: "
     ]
    }
   ],
   "source": [
    "n = 25\n",
    "epsilons = np.linspace(0.001, 0.05, num=n)\n",
    "adv_acc_results = np.zeros((n, n+1))\n",
    "adv_loss_results = np.zeros((n, n+1))\n",
    "loss_func = nn.CrossEntropyLoss()\n",
    "for i in tqdm(range(n)):\n",
    "    model = LeNet5(num_classes).double().to(device)\n",
    "    optimizer = optim.SGD(model.parameters(), lr=step_size_start,\n",
    "                          momentum=momentum, weight_decay=weight_decay)\n",
    "    lr_schedule = optim.lr_scheduler.StepLR(optimizer, step_size=step_size_schedule,\n",
    "                                            gamma=step_size_decay)\n",
    "    # DEFENDER\n",
    "    defender = LinfPGDAttack(model,\n",
    "                             epsilons[i],\n",
    "                             config['num_steps'],\n",
    "                             config['step_size'],\n",
    "                             config['random_start'],\n",
    "                             device)\n",
    "    for e in range(max_num_epochs):\n",
    "        train_one_epoch(model, loss_func, optimizer, train_data, defender, device)\n",
    "    for j in range(n):\n",
    "        # ATTACKER\n",
    "        attacker = LinfPGDAttack(model,\n",
    "                                epsilons[j],\n",
    "                                config['num_steps'],\n",
    "                                config['step_size'],\n",
    "                                config['random_start'],\n",
    "                                device)\n",
    "        (nat_loss, nat_acc), (adv_loss, adv_acc) = evaluate(model,\n",
    "                                                            loss_func,\n",
    "                                                            test_data,\n",
    "                                                            attacker,\n",
    "                                                            device)\n",
    "        adv_loss_results[i][j+1] = adv_loss\n",
    "        adv_acc_results[i][j+1] = adv_acc\n",
    "    adv_loss_results[i][0] = nat_loss\n",
    "    adv_acc_results[i][0] = nat_acc"
   ]
  },
  {
   "cell_type": "code",
   "execution_count": null,
   "id": "6b35ff75",
   "metadata": {},
   "outputs": [],
   "source": [
    "import matplotlib.pyplot as plt\n",
    "\n",
    "# plot heatmap of accuracy\n",
    "y_axis_labels = [f'{x:.3}' for x in epsilons]\n",
    "x_axis_labels = ['0'] + y_axis_labels\n",
    "fig, (ax1, ax2) = plt.subplots(2, 1, figsize=(10, 10))\n",
    "im1 = ax1.imshow(adv_loss_results, cmap='hot')\n",
    "ax1.set_title('Loss Heatmap Attack vs Defense Strength')\n",
    "ax1.set_xlabel('attack')\n",
    "ax1.set_ylabel('defense')\n",
    "ax1.set_yticks(range(n), labels=y_axis_labels)\n",
    "ax1.set_xticks(range(n+1), labels=x_axis_labels, rotation=60)\n",
    "cbar1 = ax1.figure.colorbar(im1, ax=ax1)\n",
    "cbar1.ax.set_ylabel('Loss', rotation=-90, va=\"bottom\")\n",
    "im2 = ax2.imshow(adv_acc_results, cmap='hot')\n",
    "ax2.set_title('Accuracy Heatmap Attack vs Defense Strength')\n",
    "ax2.set_xlabel('attack')\n",
    "ax2.set_ylabel('defense')\n",
    "ax2.set_yticks(range(n), labels=y_axis_labels)\n",
    "ax2.set_xticks(range(n+1), labels=x_axis_labels, rotation=60)\n",
    "cbar2 = ax2.figure.colorbar(im2, ax=ax2)\n",
    "cbar2.ax.set_ylabel('Accuracy', rotation=-90, va=\"bottom\")\n",
    "fig.tight_layout()\n",
    "plt.savefig(f'epsilon_heatmaps_{n}_2.png')\n",
    "plt.show()"
   ]
  },
  {
   "cell_type": "code",
   "execution_count": null,
   "id": "78a67a02",
   "metadata": {},
   "outputs": [],
   "source": [
    "# Experiment for n = 25 takes about 4 hours on GPU (NVIDIA 3070) so we want to save this data\n",
    "# TODO: add row for 0 defense in plot above, should be able to load these files,\n",
    "# compute the row, and re-create the plots\n",
    "adv_loss_results.tofile(f'epsilon_loss_data_{n}_2.csv', sep=',')\n",
    "adv_acc_results.tofile(f'epsilon_accuracy_data_{n}_2.csv', sep=',')"
   ]
  },
  {
   "cell_type": "code",
   "execution_count": null,
   "id": "52e5e735-3660-45ee-bde7-075d9ced6780",
   "metadata": {},
   "outputs": [],
   "source": []
  }
 ],
 "metadata": {
  "kernelspec": {
   "display_name": "Python 3 (ipykernel)",
   "language": "python",
   "name": "python3"
  },
  "language_info": {
   "codemirror_mode": {
    "name": "ipython",
    "version": 3
   },
   "file_extension": ".py",
   "mimetype": "text/x-python",
   "name": "python",
   "nbconvert_exporter": "python",
   "pygments_lexer": "ipython3",
   "version": "3.9.4"
  }
 },
 "nbformat": 4,
 "nbformat_minor": 5
}
