{
 "cells": [
  {
   "cell_type": "markdown",
   "id": "5db63205",
   "metadata": {},
   "source": [
    "We first note that the L function is monotonically decreasing. We can observe this by seeing L from linespace -4 to 4:"
   ]
  },
  {
   "cell_type": "code",
   "execution_count": 2,
   "id": "4e04dbaa",
   "metadata": {},
   "outputs": [
    {
     "data": {
      "image/png": "[encoded data removed]",
      "text/plain": [
       "<Figure size 432x288 with 1 Axes>"
      ]
     },
     "metadata": {
      "needs_background": "light"
     },
     "output_type": "display_data"
    }
   ],
   "source": [
    "import numpy as np\n",
    "import matplotlib.pyplot as plt\n",
    "\n",
    "x = np.linspace(-4,4)\n",
    "plt.plot(x, np.log(1+np.exp(-x)))\n",
    "plt.show()"
   ]
  },
  {
   "cell_type": "markdown",
   "id": "62910b58",
   "metadata": {},
   "source": [
    "Because the function is monotonic decreasing that means that maximizing the function applied to a scalar is equivalent to applying the function to the minimization of the inner scalar. In other words $max_{||\\delta||_\\infty\\leq\\epsilon}L(y*(w^T(x+\\delta)+b)) = L(min_{||\\delta||_\\infty\\leq\\epsilon}y*(w^T(x+\\delta)+b))$ We can then distribute out the $w^T$ and the $y$ to get $L(min_{||\\delta||_\\infty\\leq\\epsilon}y*w^Tx+y*w^T\\delta+y*b)$. Since only $y*w^T\\delta$ depends on $\\delta$ this means that this can further be reduced to $L(y*w^Tx+y*b+min_{||\\delta||_\\infty\\leq\\epsilon}y*w^T\\delta)$ which then further reduces to $L(y*(w^Tx+b)+min_{||\\delta||_\\infty\\leq\\epsilon}y*w^T\\delta)$. Now, all we need to solve is $min_{||\\delta||_\\infty\\leq\\epsilon}y*w^T\\delta$. To solve this let us consider the case where $y=+1$. Due to the $l_\\infty$ norm constraint meaning that each element in $\\delta$ must have magnitude less than or equal to $\\epsilon$, we then clearly minimize this quantity when $\\delta = -\\epsilon$ for $w_i >= 0$ and $\\delta = \\epsilon$ for $w_i < 0$. For $y = -1$ we would just flip these quantaties. We can then express this mathematically by saying that the argmin for $\\delta$ of in other words $\\delta^*$ is $-y$ time $\\epsilon$ times the sign of $w_i$ so $\\delta^* = -y\\epsilon*sign(w)$. Since we know that $min_{||\\delta||_\\infty\\leq\\epsilon}y*w^T\\delta$ is just $y*w^T\\delta^*$ we can substitute our value o $\\delta^*$ and also multiply it out with $w^T$ to get $y*\\sum_{i=1}-y\\epsilon*sign(w_i)w_i$. We then take out $-y\\epsilon$ and note that $sign(w_i)*w_i = |w_i|$ to get $-y^2\\epsilon\\sum_i|w_i|$. No matter what the value of y is, since, $y \\in \\{+1,-1\\}$ that means that $y^2 = 1$. $\\sum_i|w_i|$ is also just the l1 norm of $w$. finally we now know that $min_{||\\delta||_\\infty\\leq\\epsilon}y*w^T\\delta = -\\epsilon||w||_1$. This means that the entire maximization function has the value $max_{||\\delta||_\\infty\\leq\\epsilon}L(y*(w^T(x+\\delta)+b)) = L(y*(w^Tx+b)-\\epsilon||w||_1)$ which means that the the entire problem just becomes a simple minimization function: $min_{w,b}\\frac{1}{D}\\sum_{(x,y)\\in D}L(y*(w^Tx+b)-\\epsilon||w||_1)$ which is convex in w and b so can be solved exactly."
   ]
  },
  {
   "cell_type": "code",
   "execution_count": 3,
   "id": "416b8276",
   "metadata": {},
   "outputs": [],
   "source": [
    "import os\n",
    "import torch\n",
    "from torch import nn\n",
    "from torch.utils.data import DataLoader\n",
    "from torchvision import datasets, transforms"
   ]
  },
  {
   "cell_type": "code",
   "execution_count": 4,
   "id": "33c395b6",
   "metadata": {},
   "outputs": [],
   "source": [
    "device = 'cuda' if torch.cuda.is_available() else 'cpu'"
   ]
  },
  {
   "cell_type": "code",
   "execution_count": 5,
   "id": "6302fa92",
   "metadata": {},
   "outputs": [
    {
     "name": "stdout",
     "output_type": "stream",
     "text": [
      "Downloading http://fashion-mnist.s3-website.eu-central-1.amazonaws.com/train-images-idx3-ubyte.gz\n",
      "Downloading http://fashion-mnist.s3-website.eu-central-1.amazonaws.com/train-images-idx3-ubyte.gz to /mnt/c/Users/fanga2/Documents/MLOPProject/PGDAdversarialLearning/scripts/FashionMNIST/raw/train-images-idx3-ubyte.gz\n"
     ]
    },
    {
     "name": "stderr",
     "output_type": "stream",
     "text": [
      "100.0%\n"
     ]
    },
    {
     "name": "stdout",
     "output_type": "stream",
     "text": [
      "Extracting /mnt/c/Users/fanga2/Documents/MLOPProject/PGDAdversarialLearning/scripts/FashionMNIST/raw/train-images-idx3-ubyte.gz to /mnt/c/Users/fanga2/Documents/MLOPProject/PGDAdversarialLearning/scripts/FashionMNIST/raw\n",
      "\n",
      "Downloading http://fashion-mnist.s3-website.eu-central-1.amazonaws.com/train-labels-idx1-ubyte.gz\n",
      "Downloading http://fashion-mnist.s3-website.eu-central-1.amazonaws.com/train-labels-idx1-ubyte.gz to /mnt/c/Users/fanga2/Documents/MLOPProject/PGDAdversarialLearning/scripts/FashionMNIST/raw/train-labels-idx1-ubyte.gz\n"
     ]
    },
    {
     "name": "stderr",
     "output_type": "stream",
     "text": [
      "100.6%\n"
     ]
    },
    {
     "name": "stdout",
     "output_type": "stream",
     "text": [
      "Extracting /mnt/c/Users/fanga2/Documents/MLOPProject/PGDAdversarialLearning/scripts/FashionMNIST/raw/train-labels-idx1-ubyte.gz to /mnt/c/Users/fanga2/Documents/MLOPProject/PGDAdversarialLearning/scripts/FashionMNIST/raw\n",
      "\n",
      "Downloading http://fashion-mnist.s3-website.eu-central-1.amazonaws.com/t10k-images-idx3-ubyte.gz\n",
      "Downloading http://fashion-mnist.s3-website.eu-central-1.amazonaws.com/t10k-images-idx3-ubyte.gz to /mnt/c/Users/fanga2/Documents/MLOPProject/PGDAdversarialLearning/scripts/FashionMNIST/raw/t10k-images-idx3-ubyte.gz\n"
     ]
    },
    {
     "name": "stderr",
     "output_type": "stream",
     "text": [
      "100.0%\n"
     ]
    },
    {
     "name": "stdout",
     "output_type": "stream",
     "text": [
      "Extracting /mnt/c/Users/fanga2/Documents/MLOPProject/PGDAdversarialLearning/scripts/FashionMNIST/raw/t10k-images-idx3-ubyte.gz to /mnt/c/Users/fanga2/Documents/MLOPProject/PGDAdversarialLearning/scripts/FashionMNIST/raw\n",
      "\n",
      "Downloading http://fashion-mnist.s3-website.eu-central-1.amazonaws.com/t10k-labels-idx1-ubyte.gz\n",
      "Downloading http://fashion-mnist.s3-website.eu-central-1.amazonaws.com/t10k-labels-idx1-ubyte.gz to /mnt/c/Users/fanga2/Documents/MLOPProject/PGDAdversarialLearning/scripts/FashionMNIST/raw/t10k-labels-idx1-ubyte.gz\n"
     ]
    },
    {
     "name": "stderr",
     "output_type": "stream",
     "text": [
      "119.3%\n"
     ]
    },
    {
     "name": "stdout",
     "output_type": "stream",
     "text": [
      "Extracting /mnt/c/Users/fanga2/Documents/MLOPProject/PGDAdversarialLearning/scripts/FashionMNIST/raw/t10k-labels-idx1-ubyte.gz to /mnt/c/Users/fanga2/Documents/MLOPProject/PGDAdversarialLearning/scripts/FashionMNIST/raw\n",
      "\n"
     ]
    }
   ],
   "source": [
    "dataset = datasets.FashionMNIST(os.getcwd(), download=True, train=True, transform=transforms.ToTensor())\n",
    "trainloader = torch.utils.data.DataLoader(dataset, batch_size=128, shuffle=True, num_workers=1)\n",
    "validset = datasets.FashionMNIST(os.getcwd(), download=True, train=False, transform=transforms.ToTensor())\n",
    "validloader = torch.utils.data.DataLoader(validset, batch_size=128, shuffle=True, num_workers=1)"
   ]
  },
  {
   "cell_type": "code",
   "execution_count": 7,
   "id": "a3d0ed77",
   "metadata": {},
   "outputs": [],
   "source": [
    "from model import LeNet5"
   ]
  },
  {
   "cell_type": "code",
   "execution_count": 11,
   "id": "69ee9b19",
   "metadata": {},
   "outputs": [],
   "source": [
    "import train"
   ]
  },
  {
   "cell_type": "code",
   "execution_count": 12,
   "id": "c857bcfe",
   "metadata": {},
   "outputs": [],
   "source": [
    "model_basic = LeNet5(10)\n",
    "model_adv = LeNet5(10)"
   ]
  },
  {
   "cell_type": "code",
   "execution_count": 13,
   "id": "79dd0c78",
   "metadata": {},
   "outputs": [],
   "source": [
    "from pgd_attack import LinfPGDAttack"
   ]
  },
  {
   "cell_type": "code",
   "execution_count": 15,
   "id": "a9834a1f",
   "metadata": {},
   "outputs": [],
   "source": [
    "basic_atk = LinfPGDAttack(model=model_basic, epsilon=0.0313725, num_steps=5, step_size=2.0, random_start = True, device=device)\n",
    "adv_atk = LinfPGDAttack(model=model_adv, epsilon=0.0313725, num_steps=5, step_size=2.0, random_start = True, device=device)"
   ]
  },
  {
   "cell_type": "code",
   "execution_count": 18,
   "id": "614289a5",
   "metadata": {},
   "outputs": [],
   "source": [
    "acc_basic_basic = []\n",
    "loss_basic_basic = []\n",
    "acc_basic_adv = []\n",
    "loss_basic_adv = []\n",
    "loss_function_basic = nn.CrossEntropyLoss()\n",
    "optimizer_basic = torch.optim.Adam(model_basic.parameters(), lr=.01)"
   ]
  },
  {
   "cell_type": "code",
   "execution_count": null,
   "id": "94f46be3",
   "metadata": {},
   "outputs": [],
   "source": [
    "for epoch in range(0, 20):\n",
    "    train.train_one_epoch(model_basic, loss_function_basic, optimizer_basic, trainloader, None, device)\n",
    "    nat_ret, adv_ret = train.evaluate(model_basic, loss_function_basic, validloader, basic_atk, device)\n",
    "    loss_basic_basic.append(nat_ret[0])\n",
    "    acc_basic_basic.append(nat_ret[1])\n",
    "    loss_basic_adv.append(adv_ret[0])\n",
    "    acc_basic_adv.append(adv_ret[1])"
   ]
  },
  {
   "cell_type": "code",
   "execution_count": 17,
   "id": "94645a87",
   "metadata": {},
   "outputs": [],
   "source": [
    "acc_adv_basic = []\n",
    "loss_adv_basic = []\n",
    "acc_adv_adv = []\n",
    "loss_adv_adv = []\n",
    "loss_function_adv = nn.CrossEntropyLoss()\n",
    "optimizer_adv = torch.optim.Adam(model_basic.parameters(), lr=.01)"
   ]
  },
  {
   "cell_type": "code",
   "execution_count": null,
   "id": "54436e60",
   "metadata": {},
   "outputs": [],
   "source": [
    "for epoch in range(0,20):\n",
    "    train.train_one_epoch(model_adv, loss_function_adv, optimizer_adv, trainloader, adv_atk, device)\n",
    "    nat_ret, adv_ret = train.evaluate(model_adv, loss_function_adv, validloader, adv_atk, device)\n",
    "    loss_adv_basic.append(nat_ret[0])\n",
    "    acc_adv_basic.append(nat_ret[1])\n",
    "    loss_adv_adv.append(adv_ret[0])\n",
    "    acc_adv_adv.append(adv_ret[1])"
   ]
  },
  {
   "cell_type": "code",
   "execution_count": null,
   "id": "7f6d95e3",
   "metadata": {},
   "outputs": [],
   "source": [
    "epochs = np.arange(1,21)\n",
    "plt.title(\"Accuracy of the nueral netwrok without adverserial training over epochs.\")\n",
    "plt.plot(epochs, acc_basic_basic, label=\"basic input\", linestyle='-', marker='^', color = 'r')\n",
    "plt.plot(epochs, acc_basic_adv, label=\"adverserial input\", linestyle='-', marker='*', color = 'g')\n",
    "plt.xlabel(\"Epochs\")\n",
    "plt.ylabel(\"Accuracy\")\n",
    "plt.legend(loc='best')\n",
    "plt.show()"
   ]
  },
  {
   "cell_type": "code",
   "execution_count": null,
   "id": "a814360d",
   "metadata": {},
   "outputs": [],
   "source": [
    "plt.title(\"Loss of the nueral netwrok without adverserial training over epochs.\")\n",
    "plt.plot(epochs, loss_basic_basic, label=\"basic input\", linestyle='-', marker='^', color = 'r')\n",
    "plt.plot(epochs, loss_basic_adv, label=\"adverserial input\", linestyle='-', marker='*', color = 'g')\n",
    "plt.xlabel(\"Epochs\")\n",
    "plt.ylabel(\"Loss\")\n",
    "plt.legend(loc='best')\n",
    "plt.show()"
   ]
  },
  {
   "cell_type": "code",
   "execution_count": null,
   "id": "c9eefbb2",
   "metadata": {},
   "outputs": [],
   "source": [
    "plt.title(\"Accuracy of the nueral netwrok with adverserial training over epochs.\")\n",
    "plt.plot(epochs, acc_adv_basic, label=\"basic input\", linestyle='-', marker='^', color = 'r')\n",
    "plt.plot(epochs, acc_adv_adv, label=\"adverserial input\", linestyle='-', marker='*', color = 'g')\n",
    "plt.xlabel(\"Epochs\")\n",
    "plt.ylabel(\"Accuracy\")\n",
    "plt.legend(loc='best')\n",
    "plt.show()"
   ]
  },
  {
   "cell_type": "code",
   "execution_count": null,
   "id": "4a317b81",
   "metadata": {},
   "outputs": [],
   "source": [
    "plt.title(\"Loss of the nueral netwrok without adverserial training over epochs.\")\n",
    "plt.plot(epochs, loss_adv_basic, label=\"basic input\", linestyle='-', marker='^', color = 'r')\n",
    "plt.plot(epochs, loss_adv_adv, label=\"adverserial input\", linestyle='-', marker='*', color = 'g')\n",
    "plt.xlabel(\"Epochs\")\n",
    "plt.ylabel(\"Loss\")\n",
    "plt.legend(loc='best')\n",
    "plt.show()"
   ]
  },
  {
   "cell_type": "markdown",
   "id": "b12392eb",
   "metadata": {},
   "source": [
    "Some comments"
   ]
  },
  {
   "cell_type": "code",
   "execution_count": null,
   "id": "46d9c457",
   "metadata": {},
   "outputs": [],
   "source": []
  }
 ],
 "metadata": {
  "kernelspec": {
   "display_name": "Python 3",
   "language": "python",
   "name": "python3"
  },
  "language_info": {
   "codemirror_mode": {
    "name": "ipython",
    "version": 3
   },
   "file_extension": ".py",
   "mimetype": "text/x-python",
   "name": "python",
   "nbconvert_exporter": "python",
   "pygments_lexer": "ipython3",
   "version": "3.6.8"
  }
 },
 "nbformat": 4,
 "nbformat_minor": 5
}
